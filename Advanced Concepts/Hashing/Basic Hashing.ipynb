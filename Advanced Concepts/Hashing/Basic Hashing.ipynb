{
 "cells": [
  {
   "cell_type": "code",
   "execution_count": 1,
   "metadata": {},
   "outputs": [],
   "source": [
    "#Let's start with a hashing example:\n",
    "#We are going to create an array of 256 ASCII characters and 1 up every index(ascii code of that character)"
   ]
  },
  {
   "cell_type": "code",
   "execution_count": 2,
   "metadata": {},
   "outputs": [],
   "source": [
    "def arrayInitializer(word):\n",
    "    locations = [0] * ((256))\n",
    "    for w in word:\n",
    "        locations[ord(w)] +=1\n",
    "    return locations"
   ]
  },
  {
   "cell_type": "code",
   "execution_count": 5,
   "metadata": {},
   "outputs": [],
   "source": [
    "Chirag = arrayInitializer(list(\"Chirag\"))"
   ]
  },
  {
   "cell_type": "code",
   "execution_count": 8,
   "metadata": {},
   "outputs": [],
   "source": [
    "def arrayFinder(word,location):\n",
    "    for w in word:\n",
    "        if location[ord(w)] != 0:\n",
    "            print(\"Found {} at index {}\".format(w,ord(w)))"
   ]
  },
  {
   "cell_type": "code",
   "execution_count": 11,
   "metadata": {},
   "outputs": [],
   "source": [
    "#Now we find if that place is already one upped. If yes then yeah we have seen the element"
   ]
  },
  {
   "cell_type": "code",
   "execution_count": 9,
   "metadata": {},
   "outputs": [
    {
     "name": "stdout",
     "output_type": "stream",
     "text": [
      "Found a at index 97\n",
      "Found r at index 114\n",
      "Found a at index 97\n",
      "Found g at index 103\n"
     ]
    }
   ],
   "source": [
    "arrayFinder(list(\"Parag\"),Chirag)"
   ]
  },
  {
   "cell_type": "code",
   "execution_count": 10,
   "metadata": {},
   "outputs": [],
   "source": [
    "#but this approach is going to fail when you have numbers because there is no end to them"
   ]
  },
  {
   "cell_type": "code",
   "execution_count": null,
   "metadata": {},
   "outputs": [],
   "source": []
  }
 ],
 "metadata": {
  "kernelspec": {
   "display_name": "Python 3",
   "language": "python",
   "name": "python3"
  },
  "language_info": {
   "codemirror_mode": {
    "name": "ipython",
    "version": 3
   },
   "file_extension": ".py",
   "mimetype": "text/x-python",
   "name": "python",
   "nbconvert_exporter": "python",
   "pygments_lexer": "ipython3",
   "version": "3.7.3"
  }
 },
 "nbformat": 4,
 "nbformat_minor": 4
}
