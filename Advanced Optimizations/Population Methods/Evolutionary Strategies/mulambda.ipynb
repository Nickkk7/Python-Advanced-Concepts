{
 "cells": [
  {
   "cell_type": "markdown",
   "metadata": {},
   "source": [
    "## __$(\\mu,\\lambda)$  Algorithm__\n",
    "\n",
    "* __We begin with $\\lambda$ individuals generated randomly__\n",
    "* __Assess fitness of all the individuals via fitness functions.__\n",
    "* __Delete all except the $\\mu$ fittest ones.__\n",
    "* __Each of $\\mu$ fittest ones produces $\\frac{\\lambda}{\\mu}$  children through ordinary mutations (We have new $\\lambda$ children).__\n",
    "* __We have $\\mu parents and \\lambda children making it to next generation for the same process.__"
   ]
  },
  {
   "cell_type": "code",
   "execution_count": 3,
   "metadata": {},
   "outputs": [],
   "source": [
    "import random"
   ]
  },
  {
   "cell_type": "code",
   "execution_count": 10,
   "metadata": {},
   "outputs": [],
   "source": [
    "genes = \"0123456789\"\n",
    "target = \"24680\"\n",
    "MAX_POPULATION = 100"
   ]
  },
  {
   "cell_type": "code",
   "execution_count": 134,
   "metadata": {},
   "outputs": [],
   "source": [
    "def mutation():\n",
    "    global genes\n",
    "    return random.choice(genes)"
   ]
  },
  {
   "cell_type": "code",
   "execution_count": 136,
   "metadata": {},
   "outputs": [],
   "source": [
    "def population_generator(count=80):\n",
    "    global genes\n",
    "    return [[mutation() for _ in range(5)] for i in range(count)]"
   ]
  },
  {
   "cell_type": "code",
   "execution_count": 157,
   "metadata": {},
   "outputs": [],
   "source": [
    "def fitness(population):\n",
    "    global target\n",
    "    fitness = []\n",
    "    for chromosome in population:\n",
    "        fit = 0\n",
    "        for gene_index in range(5):\n",
    "            if chromosome[gene_index] == target[gene_index]:\n",
    "                fit = fit + 1\n",
    "        fitness.append(fit)\n",
    "    return list(zip(population,fitness))"
   ]
  },
  {
   "cell_type": "code",
   "execution_count": 202,
   "metadata": {},
   "outputs": [],
   "source": [
    "def mating(population,way=\"ordinary\",no_of_children=80):\n",
    "    children = []\n",
    "    if way == \"ordinary\":\n",
    "        for parent in population:\n",
    "            child = []\n",
    "            for p in range(5):\n",
    "                if random.random() < 0.75:\n",
    "                    child.append(parent[p])\n",
    "                else:\n",
    "                    child.append(mutation())\n",
    "            children.append(child)\n",
    "    return children"
   ]
  },
  {
   "cell_type": "code",
   "execution_count": 212,
   "metadata": {},
   "outputs": [],
   "source": [
    "found = False\n",
    "population = population_generator()\n",
    "clean_slate = lambda pops : pops[0]\n",
    "generation = 1"
   ]
  },
  {
   "cell_type": "code",
   "execution_count": 213,
   "metadata": {},
   "outputs": [
    {
     "name": "stdout",
     "output_type": "stream",
     "text": [
      "Generation   1 :> ['3', '9', '6', '8', '0'] is the most fit with fitness 3\n",
      "Generation   2 :> ['3', '9', '6', '8', '0'] is the most fit with fitness 3\n",
      "Generation   3 :> ['3', '9', '6', '8', '0'] is the most fit with fitness 3\n",
      "Generation   4 :> ['3', '9', '6', '8', '0'] is the most fit with fitness 3\n",
      "Generation   5 :> ['3', '9', '6', '8', '0'] is the most fit with fitness 3\n",
      "Generation   6 :> ['3', '9', '6', '8', '0'] is the most fit with fitness 3\n",
      "Generation   7 :> ['4', '4', '6', '8', '0'] is the most fit with fitness 4\n",
      "Generation   8 :> ['4', '4', '6', '8', '0'] is the most fit with fitness 4\n",
      "Generation   9 :> ['4', '4', '6', '8', '0'] is the most fit with fitness 4\n",
      "Generation  10 :> ['4', '4', '6', '8', '0'] is the most fit with fitness 4\n",
      "Generation  11 :> ['4', '4', '6', '8', '0'] is the most fit with fitness 4\n",
      "Generation  12 :> ['4', '4', '6', '8', '0'] is the most fit with fitness 4\n",
      "Generation  13 :> ['4', '4', '6', '8', '0'] is the most fit with fitness 4\n",
      "Generation  14 :> ['4', '4', '6', '8', '0'] is the most fit with fitness 4\n",
      "Generation  15 :> ['2', '4', '6', '8', '0'] is the most fit with fitness 5\n"
     ]
    }
   ],
   "source": [
    "while not found or i != 200:\n",
    "    population = fitness(population)\n",
    "    population = sorted(population,key=lambda p:p[1],reverse=True)\n",
    "    if population[0][1] == 5:\n",
    "        found = True\n",
    "        print(\"Generation {:3} :> {} is the most fit with fitness {}\".format(generation,population[0][0],population[0][1]))\n",
    "        break\n",
    "    population = population[:20]\n",
    "    print(\"Generation {:3} :> {} is the most fit with fitness {}\".format(generation,population[0][0],population[0][1]))\n",
    "    population = list(map(clean_slate,population))\n",
    "    children = mating(population)\n",
    "    population = population + children\n",
    "    generation +=1"
   ]
  },
  {
   "cell_type": "code",
   "execution_count": null,
   "metadata": {},
   "outputs": [],
   "source": []
  }
 ],
 "metadata": {
  "kernelspec": {
   "display_name": "Python 3",
   "language": "python",
   "name": "python3"
  },
  "language_info": {
   "codemirror_mode": {
    "name": "ipython",
    "version": 3
   },
   "file_extension": ".py",
   "mimetype": "text/x-python",
   "name": "python",
   "nbconvert_exporter": "python",
   "pygments_lexer": "ipython3",
   "version": "3.7.3"
  }
 },
 "nbformat": 4,
 "nbformat_minor": 4
}
