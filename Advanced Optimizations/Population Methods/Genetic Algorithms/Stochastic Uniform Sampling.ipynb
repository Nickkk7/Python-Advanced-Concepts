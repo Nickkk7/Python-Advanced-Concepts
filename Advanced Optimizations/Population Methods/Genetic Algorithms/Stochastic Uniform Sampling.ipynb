{
 "cells": [
  {
   "cell_type": "code",
   "execution_count": 233,
   "metadata": {},
   "outputs": [
    {
     "data": {
      "text/plain": [
       "[6, 7, 2, 0, 6, 9, 4, 9, 6, 3]"
      ]
     },
     "execution_count": 233,
     "metadata": {},
     "output_type": "execute_result"
    }
   ],
   "source": [
    "import random\n",
    "TARGET = [random.randint(0,9) for i in range(10)]\n",
    "TARGET"
   ]
  },
  {
   "cell_type": "code",
   "execution_count": 234,
   "metadata": {},
   "outputs": [],
   "source": [
    "population = [[random.randint(0,9) for i in range(10)] for _ in range(200)]"
   ]
  },
  {
   "cell_type": "code",
   "execution_count": 235,
   "metadata": {},
   "outputs": [],
   "source": [
    "def random_shuffler(population):\n",
    "    global TARGET\n",
    "    for pop in population:\n",
    "        for i in range(len(TARGET)-1,1,-1):\n",
    "            j = random.randint(1,i)\n",
    "            pop[i],pop[j] = pop[j],pop[i]\n",
    "    return population\n",
    "\n",
    "def fitness(population,do):\n",
    "    global TARGET\n",
    "    fits = []\n",
    "    for pop in population:\n",
    "        fit = 0\n",
    "        for i in range(len(TARGET)):\n",
    "            if pop[i] == TARGET[i]:\n",
    "                fit +=1\n",
    "        fits.append(fit)\n",
    "    if do=='sorting':\n",
    "        return sorted(list(zip(population,fits)),key=lambda p:p[1],reverse=True)\n",
    "    else:\n",
    "        return list(zip(population,fits))\n",
    "\n",
    "def distinct_fitness(population):\n",
    "    return list(set(list(map(lambda p:p[1],population))))\n",
    "\n",
    "def total_fitness(population):\n",
    "    return sum(list(map(lambda p: p[1],population)))"
   ]
  },
  {
   "cell_type": "code",
   "execution_count": 236,
   "metadata": {},
   "outputs": [],
   "source": [
    "population = random_shuffler(population)"
   ]
  },
  {
   "cell_type": "code",
   "execution_count": 238,
   "metadata": {},
   "outputs": [],
   "source": [
    "population = fitness(population,do='nosort')"
   ]
  },
  {
   "cell_type": "code",
   "execution_count": 251,
   "metadata": {},
   "outputs": [
    {
     "data": {
      "text/plain": [
       "[0, 1, 2, 3, 4, 5]"
      ]
     },
     "execution_count": 251,
     "metadata": {},
     "output_type": "execute_result"
    }
   ],
   "source": [
    "distinct_fitness(population)"
   ]
  },
  {
   "cell_type": "code",
   "execution_count": 256,
   "metadata": {},
   "outputs": [
    {
     "data": {
      "text/plain": [
       "[([8, 1, 3, 5, 6, 7, 5, 0, 7, 0], 1),\n",
       " ([5, 1, 7, 6, 8, 2, 0, 6, 0, 3], 1),\n",
       " ([4, 1, 7, 1, 2, 1, 4, 1, 1, 0], 1),\n",
       " ([5, 4, 7, 4, 7, 8, 2, 6, 2, 3], 1),\n",
       " ([2, 2, 8, 3, 6, 7, 9, 7, 8, 2], 1),\n",
       " ([1, 7, 1, 2, 5, 0, 5, 8, 3, 5], 1),\n",
       " ([9, 4, 1, 5, 2, 7, 6, 2, 9, 3], 1),\n",
       " ([0, 9, 4, 8, 0, 8, 6, 7, 2, 9], 0),\n",
       " ([7, 4, 9, 6, 9, 9, 7, 5, 8, 9], 1),\n",
       " ([1, 6, 7, 2, 2, 3, 9, 1, 9, 1], 0),\n",
       " ([4, 1, 2, 9, 2, 8, 4, 6, 1, 9], 2),\n",
       " ([5, 9, 2, 9, 3, 4, 5, 2, 1, 9], 1),\n",
       " ([4, 7, 2, 8, 1, 4, 6, 6, 6, 4], 3),\n",
       " ([9, 2, 6, 4, 2, 1, 1, 3, 9, 9], 0),\n",
       " ([0, 4, 9, 3, 4, 6, 0, 9, 6, 7], 2),\n",
       " ([5, 2, 4, 8, 1, 2, 7, 3, 7, 6], 0),\n",
       " ([0, 5, 0, 2, 3, 9, 6, 0, 9, 8], 1),\n",
       " ([7, 2, 8, 6, 0, 4, 4, 9, 7, 7], 2),\n",
       " ([1, 4, 2, 0, 6, 7, 8, 1, 3, 0], 3),\n",
       " ([0, 0, 0, 5, 8, 4, 4, 1, 1, 3], 2)]"
      ]
     },
     "execution_count": 256,
     "metadata": {},
     "output_type": "execute_result"
    }
   ],
   "source": [
    "population[:20]"
   ]
  },
  {
   "cell_type": "code",
   "execution_count": 265,
   "metadata": {},
   "outputs": [],
   "source": [
    "index = 0\n",
    "value = random.choice(distinct_fitness(population))\n",
    "sum_of_fitness = total_fitness(population)\n",
    "def SUS(population):\n",
    "    global value,sum_of_fitness,index\n",
    "    max_fitness = max(distinct_fitness(population))\n",
    "    while population[index][1] < value:\n",
    "        index = index + 1\n",
    "    value = (value + (sum_of_fitness/200)) % max_fitness\n",
    "    print(\"INDEX : {} VALUE : {}\".format(population[index][1],value))\n",
    "    print(population[index])"
   ]
  },
  {
   "cell_type": "code",
   "execution_count": 268,
   "metadata": {},
   "outputs": [],
   "source": [
    "for i in range(100):\n",
    "    #SUS(population)\n",
    "    pass"
   ]
  },
  {
   "cell_type": "code",
   "execution_count": 270,
   "metadata": {},
   "outputs": [],
   "source": [
    "Population = 2000"
   ]
  },
  {
   "cell_type": "code",
   "execution_count": 271,
   "metadata": {},
   "outputs": [
    {
     "data": {
      "text/plain": [
       "194"
      ]
     },
     "execution_count": 271,
     "metadata": {},
     "output_type": "execute_result"
    }
   ],
   "source": [
    "sum_of_fitness"
   ]
  },
  {
   "cell_type": "code",
   "execution_count": 284,
   "metadata": {},
   "outputs": [],
   "source": [
    "point_distance = sum_of_fitness/2000\n",
    "start_point = random.uniform(0,point_distance)"
   ]
  },
  {
   "cell_type": "code",
   "execution_count": 285,
   "metadata": {},
   "outputs": [
    {
     "data": {
      "text/plain": [
       "0.08984668124276259"
      ]
     },
     "execution_count": 285,
     "metadata": {},
     "output_type": "execute_result"
    }
   ],
   "source": [
    "start_point"
   ]
  },
  {
   "cell_type": "code",
   "execution_count": null,
   "metadata": {},
   "outputs": [],
   "source": []
  },
  {
   "cell_type": "code",
   "execution_count": null,
   "metadata": {},
   "outputs": [],
   "source": []
  }
 ],
 "metadata": {
  "kernelspec": {
   "display_name": "Python 3",
   "language": "python",
   "name": "python3"
  },
  "language_info": {
   "codemirror_mode": {
    "name": "ipython",
    "version": 3
   },
   "file_extension": ".py",
   "mimetype": "text/x-python",
   "name": "python",
   "nbconvert_exporter": "python",
   "pygments_lexer": "ipython3",
   "version": "3.7.3"
  }
 },
 "nbformat": 4,
 "nbformat_minor": 4
}
