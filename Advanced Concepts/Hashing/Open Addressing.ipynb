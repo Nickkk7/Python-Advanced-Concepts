{
 "cells": [
  {
   "cell_type": "markdown",
   "metadata": {},
   "source": [
    "## __Open Addressing - Linear Probing__\n",
    "\n",
    "* Create Hashes\n",
    "* Start filling the hashes in the linear order and if the key(location) is already occupied:\n",
    "    * __Start the Linear Probe i.e. (key + 1)%size until a vacant place is found__\n",
    "    \n",
    "    \n",
    "__Deletion:__ : Similar"
   ]
  },
  {
   "cell_type": "code",
   "execution_count": 33,
   "metadata": {},
   "outputs": [],
   "source": [
    "import random\n",
    "from functools import reduce"
   ]
  },
  {
   "cell_type": "code",
   "execution_count": 34,
   "metadata": {},
   "outputs": [],
   "source": [
    "hash_table = [0] * 1024\n",
    "phone_numbers = \"1234567890\"\n",
    "phone = []"
   ]
  },
  {
   "cell_type": "code",
   "execution_count": 35,
   "metadata": {},
   "outputs": [],
   "source": [
    "def phone_number_creator():\n",
    "    global phone_numbers\n",
    "    num_len = random.choice([6,7,8,9,10])\n",
    "    num = [random.choice(phone_numbers) for i in range(num_len)] \n",
    "    return \"\".join(num)"
   ]
  },
  {
   "cell_type": "code",
   "execution_count": 47,
   "metadata": {},
   "outputs": [],
   "source": [
    "def hash_table_finder(phone_num):\n",
    "    global hash_table\n",
    "    key = reduce(lambda x,y: int(x) + int(y),phone_num)\n",
    "    index = key\n",
    "    found = 0\n",
    "    for i in range(1024):\n",
    "        if hash_table[index] == phone_num:\n",
    "            print(\"Found at {} at iteration {}\".format(index,i+1))\n",
    "            found = 1\n",
    "            break\n",
    "        else:\n",
    "            index = (index + 1) % 1024\n",
    "    if found == 0:\n",
    "        print(\"Hash not Found\")"
   ]
  },
  {
   "cell_type": "code",
   "execution_count": 48,
   "metadata": {},
   "outputs": [],
   "source": [
    "def hash_table_insert(key,phone_num):\n",
    "    global hash_table\n",
    "    settled = 0\n",
    "    index = key\n",
    "    while not settled:\n",
    "        if hash_table[index] == 0:\n",
    "            hash_table[index] = phone_num\n",
    "            break\n",
    "        else:\n",
    "            index = (index + 1) % 1024"
   ]
  },
  {
   "cell_type": "code",
   "execution_count": 49,
   "metadata": {},
   "outputs": [],
   "source": [
    "def hash_table_remover(phone_num):\n",
    "    global hash_table\n",
    "    key = reduce(lambda x,y: int(x) + int(y),phone_num)\n",
    "    index = key\n",
    "    found = 0\n",
    "    for i in range(1024):\n",
    "        if hash_table[index] == phone_num:\n",
    "            hash_table[index] = \"deleted\"\n",
    "            print(\"Found and deleted at index {} : iteration {}\".format(index,i+1))\n",
    "            found = 1\n",
    "            break\n",
    "        else:\n",
    "            index = (index + 1) % 1024\n",
    "    if found == 0:\n",
    "        print(\"Hash not Found\")\n",
    "    "
   ]
  },
  {
   "cell_type": "code",
   "execution_count": 39,
   "metadata": {},
   "outputs": [],
   "source": [
    "for i in range(100):\n",
    "    phone.append(phone_number_creator())"
   ]
  },
  {
   "cell_type": "code",
   "execution_count": 40,
   "metadata": {},
   "outputs": [],
   "source": [
    "for p in phone:\n",
    "    key = reduce(lambda x,y: int(x) + int(y),p)\n",
    "    hash_table_insert(key,p)"
   ]
  },
  {
   "cell_type": "code",
   "execution_count": 42,
   "metadata": {},
   "outputs": [
    {
     "name": "stdout",
     "output_type": "stream",
     "text": [
      "Found and deleted at index 15 : iteration 1\n"
     ]
    }
   ],
   "source": [
    "hash_table_remover(\"006441\")"
   ]
  },
  {
   "cell_type": "code",
   "execution_count": 50,
   "metadata": {},
   "outputs": [
    {
     "name": "stdout",
     "output_type": "stream",
     "text": [
      "Hash not Found\n"
     ]
    }
   ],
   "source": [
    "hash_table_finder(\"006441\")"
   ]
  },
  {
   "cell_type": "code",
   "execution_count": null,
   "metadata": {},
   "outputs": [],
   "source": []
  }
 ],
 "metadata": {
  "kernelspec": {
   "display_name": "Python 3",
   "language": "python",
   "name": "python3"
  },
  "language_info": {
   "codemirror_mode": {
    "name": "ipython",
    "version": 3
   },
   "file_extension": ".py",
   "mimetype": "text/x-python",
   "name": "python",
   "nbconvert_exporter": "python",
   "pygments_lexer": "ipython3",
   "version": "3.7.3"
  }
 },
 "nbformat": 4,
 "nbformat_minor": 4
}
