{
 "cells": [
  {
   "cell_type": "code",
   "execution_count": 1,
   "metadata": {},
   "outputs": [],
   "source": [
    "import random \n",
    "import numpy as np\n",
    "import matplotlib.pyplot as plt\n",
    "%matplotlib inline"
   ]
  },
  {
   "cell_type": "code",
   "execution_count": 2,
   "metadata": {},
   "outputs": [],
   "source": [
    "population=1000000\n",
    "#creating random parents to cross breed\n",
    "vector_1=[random.choice(np.arange(1,1000,0.1)) for i in range(population)]\n",
    "vector_2=[random.choice(np.arange(1,1000,0.1)) for i in range(population)]\n",
    "#since as we know till now all the cossover operations were just swapping but if our vector would be in the form of floating points then we surely needs something fuzzie "
   ]
  },
  {
   "cell_type": "code",
   "execution_count": 8,
   "metadata": {},
   "outputs": [
    {
     "name": "stdout",
     "output_type": "stream",
     "text": [
      "old values of vector 1 \n",
      " [417.9000000000004, 563.9000000000005, 226.3000000000002, 231.0000000000002, 22.60000000000002, 521.1000000000005, 47.90000000000004, 788.1000000000007, 877.5000000000008, 709.2000000000006, 448.9000000000004, 655.1000000000006, 493.40000000000043, 530.2000000000005, 620.8000000000005, 347.6000000000003, 772.2000000000007, 73.80000000000007, 136.5000000000001, 154.70000000000013]..... \n",
      " \n",
      " old value of vector 2 \n",
      " [635.4000000000005, 836.8000000000008, 216.1000000000002, 720.3000000000006, 255.80000000000024, 764.2000000000007, 986.4000000000009, 618.7000000000005, 211.2000000000002, 316.8000000000003, 6.800000000000005, 66.60000000000005, 395.80000000000035, 945.1000000000008, 380.20000000000033, 367.30000000000035, 197.2000000000002, 993.8000000000009, 2.8000000000000016, 199.60000000000016].....\n"
     ]
    }
   ],
   "source": [
    "print(\"old values of vector 1 \\n {}..... \\n \\n old value of vector 2 \\n {}.....\".format(vector_1[0:20],vector_2[0:20]))"
   ]
  },
  {
   "cell_type": "code",
   "execution_count": 13,
   "metadata": {},
   "outputs": [],
   "source": [
    "def line_recombination(vector_1,vector_2):\n",
    "    p=0.25\n",
    "    alpha=random.uniform(-p,1+p)\n",
    "    beta=random.uniform(-p,1+p)\n",
    "    for i in range(population):\n",
    "        t=alpha*vector_1[i]+(1-alpha)*vector_2[i]\n",
    "        s=beta*vector_2[i]+(1-beta)*vector_1[i]\n",
    "        if (t-s)<=0.25 or (t-s)>=-0.25:\n",
    "            vector_1[i]=t\n",
    "            vector_2[i]=s\n",
    "    return vector_1,vector_2"
   ]
  },
  {
   "cell_type": "code",
   "execution_count": 16,
   "metadata": {},
   "outputs": [],
   "source": [
    "nvector_1,nvector_2=line_recombination(vector_1,vector_2)"
   ]
  },
  {
   "cell_type": "code",
   "execution_count": 17,
   "metadata": {},
   "outputs": [
    {
     "name": "stdout",
     "output_type": "stream",
     "text": [
      "New values of vector 1 \n",
      " [598.3141132818554, 790.2678690327281, 217.83920020471325, 636.8695431209734, 216.037109045189, 722.749061787674, 826.3765301840047, 647.5843641841559, 324.81069572551786, 383.7080549342539, 82.1823931866297, 166.94503141898122, 412.44175882156804, 874.3554740259393, 421.22466365234845, 363.9409564673684, 295.2431487950965, 836.9309619278469, 25.59716346765978, 191.9441089027831] \n",
      " \n",
      " New value of vector 2 \n",
      " [595.0014567374977, 786.1114369823594, 217.99455237369, 629.4172081915287, 212.48533200544546, 719.0465017603942, 812.0826075776612, 650.1644286375546, 334.9588477048537, 389.68454425841924, 88.91584356943682, 175.90824234474914, 413.9282658502086, 868.0362960937368, 424.88914716762423, 363.640913552776, 304.00074655604226, 822.9188055103338, 27.63349532963968, 191.26025474718926]\n"
     ]
    }
   ],
   "source": [
    "print(\"New values of vector 1 \\n {} \\n \\n New value of vector 2 \\n {}\".format(nvector_1[0:20],nvector_2[0:20]))"
   ]
  },
  {
   "cell_type": "code",
   "execution_count": 22,
   "metadata": {},
   "outputs": [
    {
     "data": {
      "text/plain": [
       "<matplotlib.collections.PathCollection at 0x7f1b92b77f28>"
      ]
     },
     "execution_count": 22,
     "metadata": {},
     "output_type": "execute_result"
    },
    {
     "data": {
      "image/png": "[encoded data removed]",
      "text/plain": [
       "<Figure size 864x360 with 1 Axes>"
      ]
     },
     "metadata": {
      "needs_background": "light"
     },
     "output_type": "display_data"
    }
   ],
   "source": [
    "plt.figure(figsize=(12,5))\n",
    "plt.scatter(vector_1,vector_2)\n",
    "plt.scatter(nvector_1,nvector_2)\n",
    "#they are overlapping"
   ]
  },
  {
   "cell_type": "markdown",
   "metadata": {},
   "source": [
    "## chirag this is for you as i was taking population around 1000 but tab line jasia nahi dikh rha tha or 10000 krte hi line draw ho gayiii"
   ]
  },
  {
   "cell_type": "code",
   "execution_count": 127,
   "metadata": {},
   "outputs": [],
   "source": [
    "def intermediate_recombinations(vector_1,vector_2):\n",
    "    p=0.25\n",
    "    for i in range(population):\n",
    "        alpha=random.uniform(-p,1+p)\n",
    "        beta=random.uniform(-p,1+p)\n",
    "        t=alpha*vector_1[i]+(1-alpha)*vector_2[i]\n",
    "        s=beta*vector_2[i]+(1-beta)*vector_1[i]\n",
    "        if (t-s)<=0.25 or (t-s)>=-0.25:\n",
    "            vector_1[i]=t\n",
    "            vector_2[i]=s\n",
    "    return vector_1,vector_2\n",
    "    "
   ]
  },
  {
   "cell_type": "code",
   "execution_count": 128,
   "metadata": {},
   "outputs": [],
   "source": [
    "n1vector_1,n2vector_2=intermediate_recombinations(vector_1,vector_2)"
   ]
  },
  {
   "cell_type": "code",
   "execution_count": 129,
   "metadata": {},
   "outputs": [
    {
     "data": {
      "text/plain": [
       "<matplotlib.collections.PathCollection at 0x1597cd9d748>"
      ]
     },
     "execution_count": 129,
     "metadata": {},
     "output_type": "execute_result"
    },
    {
     "data": {
      "image/png": "[encoded data removed]",
      "text/plain": [
       "<Figure size 864x360 with 1 Axes>"
      ]
     },
     "metadata": {
      "needs_background": "light"
     },
     "output_type": "display_data"
    }
   ],
   "source": [
    "plt.figure(figsize=(12,5))\n",
    "plt.scatter(vector_1,vector_2)\n",
    "plt.scatter(n1vector_1,n2vector_2)"
   ]
  },
  {
   "cell_type": "markdown",
   "metadata": {},
   "source": [
    "## Going to implement FitnessProportionate Selection / Roulette Selection"
   ]
  },
  {
   "cell_type": "code",
   "execution_count": 336,
   "metadata": {},
   "outputs": [],
   "source": [
    "genes=\"abcdefghijklmnoprst\"\n",
    "target=\"akshey\"\n",
    "pop_size=100"
   ]
  },
  {
   "cell_type": "code",
   "execution_count": 337,
   "metadata": {},
   "outputs": [],
   "source": [
    "def create_pop(pop_size):\n",
    "    global target\n",
    "    l=len(target)\n",
    "    pop=[]\n",
    "    for j in range(pop_size):\n",
    "        s=[]\n",
    "        for i in range(l):\n",
    "            s.append(random.choice(genes))\n",
    "        pop.append(s)\n",
    "    return pop"
   ]
  },
  {
   "cell_type": "code",
   "execution_count": 338,
   "metadata": {},
   "outputs": [],
   "source": [
    "population=create_pop(pop_size)"
   ]
  },
  {
   "cell_type": "code",
   "execution_count": 339,
   "metadata": {},
   "outputs": [],
   "source": [
    "def fitness(population):\n",
    "    fitscore=[]\n",
    "    for i in population:\n",
    "        fit=0\n",
    "        for j in range(len(i)):\n",
    "            if i[j]==target[j]:\n",
    "                fit+=1\n",
    "        fitscore.append(fit)\n",
    "            \n",
    "    return fitscore"
   ]
  },
  {
   "cell_type": "code",
   "execution_count": 340,
   "metadata": {},
   "outputs": [],
   "source": [
    "pop_fit=fitness(population)\n",
    "sum=np.sum(pop_fit)\n",
    "arr=np.sort(pop_fit)[::-1]"
   ]
  },
  {
   "cell_type": "code",
   "execution_count": 307,
   "metadata": {},
   "outputs": [],
   "source": [
    "def Roulette_Selection(number_wanted_to_select):\n",
    "    global population\n",
    "    global arr\n",
    "    selectedPopulation=[]\n",
    "    for i in range(number_wanted_to_select):\n",
    "        partial_sum=random.randint(0,sum)\n",
    "        for i in range(len(arr)):\n",
    "            if sum>partial_sum:\n",
    "                partial_sum+=arr[i]\n",
    "            else:\n",
    "                selectedPopulation.append(population[i])\n",
    "                break\n",
    "                print(population[i])\n",
    "    return selectedPopulation\n"
   ]
  },
  {
   "cell_type": "code",
   "execution_count": 308,
   "metadata": {},
   "outputs": [
    {
     "data": {
      "text/plain": [
       "[['m', 'g', 'p', 'g', 's', 's'],\n",
       " ['m', 'l', 'i', 'c', 'i', 'c'],\n",
       " ['k', 'n', 'f', 'i', 'i', 'a'],\n",
       " ['r', 'r', 'f', 'h', 'b', 'c'],\n",
       " ['i', 'r', 'e', 'j', 'd', 'd'],\n",
       " ['m', 'l', 'i', 'c', 'i', 'c'],\n",
       " ['m', 'g', 'p', 'g', 's', 's'],\n",
       " ['m', 'l', 'i', 'c', 'i', 'c'],\n",
       " ['n', 'r', 'l', 'd', 'd', 'p'],\n",
       " ['s', 'j', 's', 'i', 'n', 'm']]"
      ]
     },
     "execution_count": 308,
     "metadata": {},
     "output_type": "execute_result"
    }
   ],
   "source": [
    "Roulette_Selection(10)"
   ]
  },
  {
   "cell_type": "code",
   "execution_count": 379,
   "metadata": {},
   "outputs": [],
   "source": [
    "pop_fit=fitness(population)\n",
    "sum=np.sum(pop_fit)\n",
    "arr=np.sort(pop_fit)[::-1]\n",
    "def SUS(number_wanted_to_select):\n",
    "        global population\n",
    "        global arr\n",
    "        global sum\n",
    "        global pop_fit\n",
    "        fitness=pop_fit\n",
    "        selectedPopulation=[]\n",
    "        x=sum/number_wanted_to_select\n",
    "        init=random.uniform(0,x)\n",
    "        for i in range(0,len(pop_fit)):\n",
    "            fitness[i]+=fitness[i-1]\n",
    "        j=0\n",
    "        for i in range(0,10):\n",
    "            while (fitness[j]<init):\n",
    "                if j<=100:\n",
    "                    j+=1\n",
    "                    \n",
    "                break\n",
    "            init+=x\n",
    "            selectedPopulation.append(population[j])\n",
    "        return selectedPopulation\n",
    "        "
   ]
  },
  {
   "cell_type": "code",
   "execution_count": 380,
   "metadata": {},
   "outputs": [
    {
     "data": {
      "text/plain": [
       "[['c', 'f', 'n', 'm', 'o', 'f'],\n",
       " ['n', 's', 'o', 't', 'm', 'b'],\n",
       " ['l', 'c', 'j', 'e', 'a', 'o'],\n",
       " ['d', 'e', 'a', 'l', 'h', 'e'],\n",
       " ['p', 'm', 'l', 'c', 'p', 'h'],\n",
       " ['m', 'k', 'a', 'c', 'f', 'e'],\n",
       " ['p', 'g', 'c', 'g', 'e', 'e'],\n",
       " ['d', 'e', 'a', 't', 'j', 'p'],\n",
       " ['m', 'r', 't', 'p', 'r', 'i'],\n",
       " ['o', 'l', 'b', 's', 'e', 'a']]"
      ]
     },
     "execution_count": 380,
     "metadata": {},
     "output_type": "execute_result"
    }
   ],
   "source": [
    "SUS(10)"
   ]
  },
  {
   "cell_type": "code",
   "execution_count": 381,
   "metadata": {},
   "outputs": [],
   "source": [
    "pop_fit=fitness(population)\n",
    "def Tournament(keep):\n",
    "    global pop_fit\n",
    "    global population\n",
    "    tournament_size=10\n",
    "    selected=[]\n",
    "    for i in range(keep):\n",
    "        best=random.choice(population)\n",
    "        for i in range(2,tournament_size):\n",
    "            next=random.choice(population)\n",
    "            if pop_fit[population.index(best)]<pop_fit[population.index(next)]:\n",
    "                best=next\n",
    "        selected.append(best)\n",
    "    return selected\n",
    "    "
   ]
  },
  {
   "cell_type": "code",
   "execution_count": 382,
   "metadata": {},
   "outputs": [
    {
     "data": {
      "text/plain": [
       "[['p', 'k', 'h', 'a', 'o', 'd'],\n",
       " ['r', 'k', 'p', 'b', 'd', 'n'],\n",
       " ['g', 'd', 's', 'a', 'c', 'm'],\n",
       " ['r', 'k', 'p', 'b', 'd', 'n'],\n",
       " ['s', 'k', 'i', 'k', 'g', 'b'],\n",
       " ['n', 'l', 'l', 'h', 'r', 'n'],\n",
       " ['g', 'k', 'k', 't', 'k', 'o'],\n",
       " ['o', 'l', 'b', 's', 'e', 'a'],\n",
       " ['j', 'k', 'a', 'e', 'l', 'k'],\n",
       " ['j', 'k', 'a', 'e', 'l', 'k']]"
      ]
     },
     "execution_count": 382,
     "metadata": {},
     "output_type": "execute_result"
    }
   ],
   "source": [
    "Tournament(10)"
   ]
  },
  {
   "cell_type": "code",
   "execution_count": null,
   "metadata": {},
   "outputs": [],
   "source": []
  }
 ],
 "metadata": {
  "kernelspec": {
   "display_name": "Python 3",
   "language": "python",
   "name": "python3"
  },
  "language_info": {
   "codemirror_mode": {
    "name": "ipython",
    "version": 3
   },
   "file_extension": ".py",
   "mimetype": "text/x-python",
   "name": "python",
   "nbconvert_exporter": "python",
   "pygments_lexer": "ipython3",
   "version": "3.7.3"
  }
 },
 "nbformat": 4,
 "nbformat_minor": 4
}
