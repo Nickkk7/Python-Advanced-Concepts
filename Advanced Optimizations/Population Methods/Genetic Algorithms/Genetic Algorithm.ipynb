{
 "cells": [
  {
   "cell_type": "code",
   "execution_count": 187,
   "metadata": {},
   "outputs": [],
   "source": [
    "genes = \"0123456789\"\n",
    "target = \"13579\"\n",
    "TOTAL_POP = 100"
   ]
  },
  {
   "cell_type": "code",
   "execution_count": 188,
   "metadata": {},
   "outputs": [],
   "source": [
    "import random\n",
    "import numpy as np"
   ]
  },
  {
   "cell_type": "code",
   "execution_count": 201,
   "metadata": {},
   "outputs": [],
   "source": [
    "def mutation():\n",
    "    global genes\n",
    "    return random.choice(genes)\n",
    "def chromosome():\n",
    "    global target\n",
    "    return [mutation() for t in range(len(target))]"
   ]
  },
  {
   "cell_type": "code",
   "execution_count": 202,
   "metadata": {},
   "outputs": [],
   "source": [
    "def fitness(population):\n",
    "    global target\n",
    "    fitness = []\n",
    "    for p in population:\n",
    "        fit = 0\n",
    "        for i in range(len(target)):\n",
    "            if p[i] != target[i]:\n",
    "                fit += 1\n",
    "        fitness.append(fit)\n",
    "    return list(zip(population,fitness))"
   ]
  },
  {
   "cell_type": "code",
   "execution_count": 203,
   "metadata": {},
   "outputs": [],
   "source": [
    "def mate(p1,p2):\n",
    "    child_chromosome = []\n",
    "    for i in range(len(target)):\n",
    "        prob = random.random()\n",
    "        if prob <0.45:\n",
    "            child_chromosome.append(p1[i])\n",
    "        elif prob <0.90:\n",
    "            child_chromosome.append(p2[i])\n",
    "        else:\n",
    "            child_chromosome.append(mutation())\n",
    "    return child_chromosome"
   ]
  },
  {
   "cell_type": "code",
   "execution_count": 204,
   "metadata": {},
   "outputs": [
    {
     "name": "stdout",
     "output_type": "stream",
     "text": [
      "(['2', '1', '5', '7', '0'], 3)\n",
      "(['1', '3', '2', '3', '9'], 2)\n",
      "(['1', '3', '2', '3', '9'], 2)\n",
      "(['1', '3', '5', '7', '9'], 0)\n"
     ]
    }
   ],
   "source": [
    "population = []\n",
    "for t in range(TOTAL_POP):\n",
    "    individual = chromosome()\n",
    "    population.append(individual)\n",
    "\n",
    "Found = False\n",
    "    \n",
    "while not Found:\n",
    "    population = fitness(population)\n",
    "    population = sorted(population,key=lambda x:x[1])\n",
    "    print(population[0])\n",
    "    test = population\n",
    "    if population[0][1] <= 0:\n",
    "        Found = True\n",
    "    ellitism = int(0.1*TOTAL_POP)\n",
    "    new_generation = [population[i][0] for i in range(ellitism)]\n",
    "    offsprings = int((0.9*TOTAL_POP))\n",
    "    for _ in range(offsprings):\n",
    "        p1,p2 = random.randint(0,50),random.randint(0,50)\n",
    "        child = mate(population[p1][0],population[p2][0])\n",
    "        new_generation.append(child)\n",
    "    population = new_generation"
   ]
  },
  {
   "cell_type": "code",
   "execution_count": null,
   "metadata": {},
   "outputs": [],
   "source": []
  }
 ],
 "metadata": {
  "kernelspec": {
   "display_name": "Python 3",
   "language": "python",
   "name": "python3"
  },
  "language_info": {
   "codemirror_mode": {
    "name": "ipython",
    "version": 3
   },
   "file_extension": ".py",
   "mimetype": "text/x-python",
   "name": "python",
   "nbconvert_exporter": "python",
   "pygments_lexer": "ipython3",
   "version": "3.7.3"
  }
 },
 "nbformat": 4,
 "nbformat_minor": 4
}
