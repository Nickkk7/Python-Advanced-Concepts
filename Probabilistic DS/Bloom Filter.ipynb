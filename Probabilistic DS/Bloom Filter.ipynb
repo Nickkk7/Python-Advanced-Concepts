{
 "cells": [
  {
   "cell_type": "code",
   "execution_count": 1,
   "metadata": {},
   "outputs": [],
   "source": [
    "#Bloom Filter"
   ]
  },
  {
   "cell_type": "code",
   "execution_count": 21,
   "metadata": {},
   "outputs": [],
   "source": [
    "import numpy as np\n",
    "import mmh3"
   ]
  },
  {
   "cell_type": "code",
   "execution_count": 22,
   "metadata": {},
   "outputs": [],
   "source": [
    "phone_num = np.random.randint(1,999999,100000)"
   ]
  },
  {
   "cell_type": "code",
   "execution_count": 23,
   "metadata": {},
   "outputs": [],
   "source": [
    "hash42 = np.array(list(map(lambda x: mmh3.hash(x,42,signed=False),phone_num)))\n",
    "hash12890 = np.array(list(map(lambda x: mmh3.hash(x,12890,signed=False),phone_num)))\n",
    "hash786786786 = np.array(list(map(lambda x: mmh3.hash(x,786786786,signed=False),phone_num)))"
   ]
  },
  {
   "cell_type": "code",
   "execution_count": 24,
   "metadata": {},
   "outputs": [],
   "source": [
    "data_set = np.zeros(9999999999,dtype=np.int8)"
   ]
  },
  {
   "cell_type": "code",
   "execution_count": 25,
   "metadata": {},
   "outputs": [],
   "source": [
    "for i in range(100000):\n",
    "    data_set[hash42[i]] = 1\n",
    "    data_set[hash12890[i]] = 1\n",
    "    data_set[hash786786786[i]] = 1"
   ]
  },
  {
   "cell_type": "code",
   "execution_count": 13,
   "metadata": {},
   "outputs": [],
   "source": [
    "testing_phone_num = np.arange(100000,999999)"
   ]
  },
  {
   "cell_type": "code",
   "execution_count": 26,
   "metadata": {},
   "outputs": [],
   "source": [
    "def false_positive():\n",
    "    global testing_phone_num,data_set\n",
    "    for t in testing_phone_num:\n",
    "        hash42 = mmh3.hash(t,42,signed=False)\n",
    "        hash12890 = mmh3.hash(t,12890,signed=False)\n",
    "        hash786786786 = mmh3.hash(t,786786786,signed=False)\n",
    "        if data_set[hash42] == 1 and data_set[hash12890] == 1 and data_set[hash786786786] == 1 and t not in phone_num:\n",
    "            print(\"False Positive for {}\".format(t))\n",
    "        elif data_set[hash42] == 0 and data_set[hash12890] == 0 and data_set[hash786786786] == 0 and t in phone_num:\n",
    "            print(\"False Negative for {}\".format(t))\n",
    "        else:\n",
    "            pass"
   ]
  },
  {
   "cell_type": "code",
   "execution_count": 28,
   "metadata": {},
   "outputs": [],
   "source": [
    "false_positive()"
   ]
  },
  {
   "cell_type": "code",
   "execution_count": null,
   "metadata": {},
   "outputs": [],
   "source": []
  }
 ],
 "metadata": {
  "kernelspec": {
   "display_name": "Python 3",
   "language": "python",
   "name": "python3"
  },
  "language_info": {
   "codemirror_mode": {
    "name": "ipython",
    "version": 3
   },
   "file_extension": ".py",
   "mimetype": "text/x-python",
   "name": "python",
   "nbconvert_exporter": "python",
   "pygments_lexer": "ipython3",
   "version": "3.7.3"
  }
 },
 "nbformat": 4,
 "nbformat_minor": 4
}
