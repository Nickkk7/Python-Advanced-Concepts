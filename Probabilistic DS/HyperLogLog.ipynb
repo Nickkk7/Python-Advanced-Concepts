{
 "cells": [
  {
   "cell_type": "markdown",
   "metadata": {},
   "source": [
    "## __Hyper Log Log__\n",
    "* Cardinality of the number of distinct elements present in a dataset. Hyperloglog helps us to intercept distinct entitites with data of more than 1,000,000,000 points without traversing them all.\n",
    "\n",
    "https://odino.org/my-favorite-data-structure-hyperloglog/"
   ]
  },
  {
   "cell_type": "code",
   "execution_count": null,
   "metadata": {},
   "outputs": [],
   "source": []
  }
 ],
 "metadata": {
  "kernelspec": {
   "display_name": "Python 3",
   "language": "python",
   "name": "python3"
  },
  "language_info": {
   "codemirror_mode": {
    "name": "ipython",
    "version": 3
   },
   "file_extension": ".py",
   "mimetype": "text/x-python",
   "name": "python",
   "nbconvert_exporter": "python",
   "pygments_lexer": "ipython3",
   "version": "3.7.3"
  }
 },
 "nbformat": 4,
 "nbformat_minor": 4
}
