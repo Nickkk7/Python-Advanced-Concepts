{
 "cells": [
  {
   "cell_type": "markdown",
   "metadata": {},
   "source": [
    "## __Count Min Sketch__\n",
    "\n",
    "1. A very very helful data structures family Sketch has this DS Count Min Sketch.\n",
    "2. Count Min Sketch is very useful in the implementation of frequency counting of some event.\n",
    "3. We use r X c matrix to store the hashed count in the matrix in every individual row and when we have to query the frequency of some element we take the min of that element in every row."
   ]
  },
  {
   "cell_type": "code",
   "execution_count": 1,
   "metadata": {},
   "outputs": [],
   "source": [
    "import numpy as np\n",
    "import mmh3\n",
    "import requests\n",
    "from collections import Counter"
   ]
  },
  {
   "cell_type": "code",
   "execution_count": 50,
   "metadata": {},
   "outputs": [],
   "source": [
    "count_sketch = np.zeros((1000000,5),dtype=np.int8)"
   ]
  },
  {
   "cell_type": "code",
   "execution_count": 51,
   "metadata": {},
   "outputs": [],
   "source": [
    "target_url = \"https://www.gutenberg.org/files/2600/2600-0.txt\""
   ]
  },
  {
   "cell_type": "code",
   "execution_count": 52,
   "metadata": {},
   "outputs": [],
   "source": [
    "response = requests.get(target_url)\n",
    "data = response.text"
   ]
  },
  {
   "cell_type": "code",
   "execution_count": 53,
   "metadata": {},
   "outputs": [],
   "source": [
    "data = data[8133:]"
   ]
  },
  {
   "cell_type": "code",
   "execution_count": 54,
   "metadata": {},
   "outputs": [],
   "source": [
    "data = data.replace(\"\\r\",\" \")\n",
    "data = data.replace(\"\\n\", \" \")\n",
    "data = data.replace(\"\\\"\",\"\")\n",
    "data = data.replace(\",\",\"\")\n",
    "data = data.replace(\".\",\"\")"
   ]
  },
  {
   "cell_type": "code",
   "execution_count": 55,
   "metadata": {},
   "outputs": [],
   "source": [
    "data = data.lower()"
   ]
  },
  {
   "cell_type": "code",
   "execution_count": 56,
   "metadata": {},
   "outputs": [],
   "source": [
    "data = data.split(\" \")"
   ]
  },
  {
   "cell_type": "code",
   "execution_count": 57,
   "metadata": {},
   "outputs": [],
   "source": [
    "dataCounter = Counter(data).most_common(5555)"
   ]
  },
  {
   "cell_type": "code",
   "execution_count": 58,
   "metadata": {},
   "outputs": [
    {
     "data": {
      "text/plain": [
       "('', 80026)"
      ]
     },
     "execution_count": 58,
     "metadata": {},
     "output_type": "execute_result"
    }
   ],
   "source": [
    "dataCounter.pop(0)"
   ]
  },
  {
   "cell_type": "code",
   "execution_count": 59,
   "metadata": {},
   "outputs": [
    {
     "data": {
      "text/plain": [
       "[('the', 34254),\n",
       " ('and', 21799),\n",
       " ('to', 16569),\n",
       " ('of', 14941),\n",
       " ('a', 10395),\n",
       " ('he', 9574),\n",
       " ('in', 8844),\n",
       " ('his', 7949),\n",
       " ('that', 7589),\n",
       " ('was', 7297),\n",
       " ('with', 5667),\n",
       " ('had', 5348),\n",
       " ('it', 4653),\n",
       " ('her', 4587),\n",
       " ('not', 4571),\n",
       " ('at', 4503),\n",
       " ('him', 4294),\n",
       " ('as', 3913),\n",
       " ('on', 3879),\n",
       " ('but', 3664),\n",
       " ('for', 3426),\n",
       " ('she', 3316),\n",
       " ('i', 3246),\n",
       " ('is', 3165),\n",
       " ('you', 2988),\n",
       " ('said', 2757),\n",
       " ('from', 2670),\n",
       " ('all', 2641),\n",
       " ('were', 2401),\n",
       " ('be', 2386)]"
      ]
     },
     "execution_count": 59,
     "metadata": {},
     "output_type": "execute_result"
    }
   ],
   "source": []
  },
  {
   "cell_type": "code",
   "execution_count": 13,
   "metadata": {},
   "outputs": [],
   "source": []
  },
  {
   "cell_type": "code",
   "execution_count": 60,
   "metadata": {},
   "outputs": [],
   "source": [
    "def hash_table_creator():\n",
    "    global dataCounter,count_sketch\n",
    "    hash42 = np.array(list(map(lambda x: mmh3.hash(x,42,signed=False),dataPoints)))\n",
    "    hash142 = np.array(list(map(lambda x: mmh3.hash(x,142,signed=False),dataPoints)))\n",
    "    hash1421 = np.array(list(map(lambda x: mmh3.hash(x,1421,signed=False),dataPoints)))\n",
    "    hash14214 = np.array(list(map(lambda x: mmh3.hash(x,14214,signed=False),dataPoints)))\n",
    "    hash142142 = np.array(list(map(lambda x: mmh3.hash(x,142142,signed=False),dataPoints)))\n",
    "    for i in range(len(dataCounter)):\n",
    "        count_sketch[hash42[i]%100333][0] = dataCounter[i][1]\n",
    "        count_sketch[hash142[i]%100333][1] = dataCounter[i][1]\n",
    "        count_sketch[hash1421[i]%100333][2] = dataCounter[i][1]\n",
    "        count_sketch[hash14214[i]%100333][3] = dataCounter[i][1]\n",
    "        count_sketch[hash142142[i]%100333][4] = dataCounter[i][1]"
   ]
  },
  {
   "cell_type": "code",
   "execution_count": 61,
   "metadata": {},
   "outputs": [],
   "source": [
    "def hash_table_finder(dataPoint):\n",
    "    global count_sketch\n",
    "    counting = []\n",
    "    hash42 = mmh3.hash(dataPoint,42,signed=False)\n",
    "    hash142 = mmh3.hash(dataPoint,142,signed=False)\n",
    "    hash1421 = mmh3.hash(dataPoint,1421,signed=False)\n",
    "    hash14214 = mmh3.hash(dataPoint,14214,signed=False)\n",
    "    hash142142 = mmh3.hash(dataPoint,142142,signed=False)\n",
    "    counting.append(count_sketch[hash42%100333][0])\n",
    "    counting.append(count_sketch[hash142%100333][1])\n",
    "    counting.append(count_sketch[hash1421%100333][2])\n",
    "    counting.append(count_sketch[hash14214%100333][3])\n",
    "    counting.append(count_sketch[hash142142%100333][4])\n",
    "    return counting"
   ]
  },
  {
   "cell_type": "code",
   "execution_count": 62,
   "metadata": {},
   "outputs": [],
   "source": [
    "hash_table_creator()"
   ]
  },
  {
   "cell_type": "code",
   "execution_count": 63,
   "metadata": {},
   "outputs": [
    {
     "data": {
      "text/plain": [
       "array([[0, 0, 0, 0, 0],\n",
       "       [0, 0, 0, 0, 0],\n",
       "       [0, 0, 0, 0, 0],\n",
       "       ...,\n",
       "       [0, 0, 0, 0, 0],\n",
       "       [0, 0, 0, 0, 0],\n",
       "       [0, 0, 0, 0, 0]], dtype=int8)"
      ]
     },
     "execution_count": 63,
     "metadata": {},
     "output_type": "execute_result"
    }
   ],
   "source": [
    "count_sketch"
   ]
  },
  {
   "cell_type": "code",
   "execution_count": 64,
   "metadata": {},
   "outputs": [
    {
     "data": {
      "text/plain": [
       "[-84, 29, -84, -84, -84]"
      ]
     },
     "execution_count": 64,
     "metadata": {},
     "output_type": "execute_result"
    }
   ],
   "source": [
    "hash_table_finder(\"you\")"
   ]
  },
  {
   "cell_type": "code",
   "execution_count": null,
   "metadata": {},
   "outputs": [],
   "source": []
  }
 ],
 "metadata": {
  "kernelspec": {
   "display_name": "Python 3",
   "language": "python",
   "name": "python3"
  },
  "language_info": {
   "codemirror_mode": {
    "name": "ipython",
    "version": 3
   },
   "file_extension": ".py",
   "mimetype": "text/x-python",
   "name": "python",
   "nbconvert_exporter": "python",
   "pygments_lexer": "ipython3",
   "version": "3.7.3"
  }
 },
 "nbformat": 4,
 "nbformat_minor": 4
}
