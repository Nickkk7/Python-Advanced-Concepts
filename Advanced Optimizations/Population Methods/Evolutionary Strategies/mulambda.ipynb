{
 "cells": [
  {
   "cell_type": "markdown",
   "metadata": {},
   "source": [
    "## __$(\\mu,\\lambda)$  Algorithm__\n",
    "\n",
    "* __We begin with $\\lambda$ individuals generated randomly__\n",
    "* __Assess fitness of all the individuals via fitness functions.__\n",
    "* __Delete all except the $\\mu$ fittest ones.__\n",
    "* __Each of $\\mu$ fittest ones produces $\\frac{\\lambda}{\\mu}$  children through ordinary mutations (We have new $\\lambda$ children).__\n",
    "* __We have $\\mu parents and \\lambda children making it to next generation for the same process.__"
   ]
  },
  {
   "cell_type": "code",
   "execution_count": null,
   "metadata": {},
   "outputs": [],
   "source": []
  }
 ],
 "metadata": {
  "kernelspec": {
   "display_name": "Python 3",
   "language": "python",
   "name": "python3"
  },
  "language_info": {
   "codemirror_mode": {
    "name": "ipython",
    "version": 3
   },
   "file_extension": ".py",
   "mimetype": "text/x-python",
   "name": "python",
   "nbconvert_exporter": "python",
   "pygments_lexer": "ipython3",
   "version": "3.7.3"
  }
 },
 "nbformat": 4,
 "nbformat_minor": 4
}
