{
 "cells": [
  {
   "cell_type": "markdown",
   "metadata": {},
   "source": [
    "## __$(\\mu + \\lambda)$  Algorithm__\n",
    "\n",
    "* __We begin with $\\lambda$ individuals generated randomly__\n",
    "* __These $\\lambda$ individuals will create $\\mu$ children__\n",
    "* __Assess fitness of all the individuals via fitness functions.__\n",
    "* __Delete all except the $\\lambda$ fittest ones.__\n",
    "* __Each of $\\lambda$ fittest ones produces $\\frac{POPULATION - \\lambda}{\\lambda}$  children through ordinary mutations (We have new $\\lambda$ children).__\n",
    "* __We have $\\lambda$ parents and $\\mu$ children making it to next generation for the same process.__\n",
    "\n",
    "__The (μ + $\\lambda$) algorithm has three knobs with which we may adjust exploration versus exploitation:__\n",
    "*  __The size of $\\lambda$__ : This essentially controls the sample size for each population, and is basically\n",
    "the same thing as the n variable in Steepest-Ascent Hill Climbing With Replacement. At the\n",
    "extreme, as $\\lambda$ approaches infinity , the algorithm approaches exploration (random search).\n",
    "* __The size of μ:__ This controls how selective the algorithm is; low values of μ with respect to l\n",
    "push the algorithm more towards exploitative search as only the best individuals survive.\n",
    "* __The degree to which Mutation is performed:__ If Mutate has a lot of noise, then new children\n",
    "fall far from the tree and are fairly random regardless of the selectivity of μ."
   ]
  },
  {
   "cell_type": "code",
   "execution_count": 3,
   "metadata": {},
   "outputs": [],
   "source": [
    "import random"
   ]
  },
  {
   "cell_type": "code",
   "execution_count": 23,
   "metadata": {},
   "outputs": [],
   "source": [
    "genes = \"0123456789\"\n",
    "target = \"24680\"\n",
    "MAX_POPULATION = 100\n",
    "PARENTS = 20\n",
    "CHILDREN = 4 #PER PARENT"
   ]
  },
  {
   "cell_type": "code",
   "execution_count": 5,
   "metadata": {},
   "outputs": [],
   "source": [
    "def mutation():\n",
    "    global genes\n",
    "    return random.choice(genes)"
   ]
  },
  {
   "cell_type": "code",
   "execution_count": 6,
   "metadata": {},
   "outputs": [],
   "source": [
    "def population_generator(count=20):\n",
    "    global genes\n",
    "    return [[mutation() for _ in range(5)] for i in range(count)]"
   ]
  },
  {
   "cell_type": "code",
   "execution_count": 24,
   "metadata": {},
   "outputs": [],
   "source": [
    "def fitness(population):\n",
    "    global target\n",
    "    fitness = []\n",
    "    for chromosome in population:\n",
    "        fit = 0\n",
    "        for gene_index in range(5):\n",
    "            if chromosome[gene_index] == target[gene_index]:\n",
    "                fit = fit + 1\n",
    "        fitness.append(fit)\n",
    "    return list(zip(population,fitness))"
   ]
  },
  {
   "cell_type": "code",
   "execution_count": 74,
   "metadata": {},
   "outputs": [],
   "source": [
    "def mating(population,way=\"ordinary\",no_of_children=80):\n",
    "    global CHILDREN\n",
    "    children = []\n",
    "    if way == \"ordinary\":\n",
    "        n = 0\n",
    "        for parent in population:\n",
    "            for i in range(int(CHILDREN)):\n",
    "                child = []\n",
    "                for p in range(5):\n",
    "                    if random.random() < 0.75:\n",
    "                        child.append(parent[p])\n",
    "                    else:\n",
    "                        child.append(mutation())\n",
    "                children.append(child)\n",
    "    return children"
   ]
  },
  {
   "cell_type": "code",
   "execution_count": 75,
   "metadata": {},
   "outputs": [],
   "source": [
    "found = False\n",
    "population = population_generator()\n",
    "clean_slate = lambda pops : pops[0]\n",
    "generation = 1"
   ]
  },
  {
   "cell_type": "code",
   "execution_count": 76,
   "metadata": {},
   "outputs": [
    {
     "name": "stdout",
     "output_type": "stream",
     "text": [
      "100\n",
      "Generation   1 :> ['2', '0', '7', '8', '4'] is the most fit with fitness 2\n",
      "100\n",
      "Generation   2 :> ['2', '0', '7', '8', '4'] is the most fit with fitness 2\n",
      "100\n",
      "Generation   3 :> ['1', '4', '1', '8', '0'] is the most fit with fitness 3\n",
      "100\n",
      "Generation   4 :> ['1', '4', '1', '8', '0'] is the most fit with fitness 3\n",
      "100\n",
      "Generation   5 :> ['2', '4', '1', '8', '0'] is the most fit with fitness 4\n",
      "100\n",
      "Generation   6 :> ['2', '4', '1', '8', '0'] is the most fit with fitness 4\n",
      "100\n",
      "Generation   7 :> ['2', '4', '1', '8', '0'] is the most fit with fitness 4\n",
      "100\n",
      "Generation   8 :> ['2', '4', '1', '8', '0'] is the most fit with fitness 4\n",
      "100\n",
      "Generation   9 :> ['2', '4', '1', '8', '0'] is the most fit with fitness 4\n",
      "100\n",
      "Generation  10 :> ['2', '4', '1', '8', '0'] is the most fit with fitness 4\n",
      "100\n",
      "Generation  11 :> ['2', '4', '6', '8', '0'] is the most fit with fitness 5\n"
     ]
    }
   ],
   "source": [
    "while not found:\n",
    "    children = mating(population)\n",
    "    population = population + children\n",
    "    population = fitness(population)\n",
    "    population = sorted(population,key=lambda p:p[1],reverse=True)\n",
    "    print(len(population))\n",
    "    population = population[:20] #Selecting the 20 fittest who gets the chance to create new offsprings\n",
    "    if population[0][1] == 5:\n",
    "        found = True\n",
    "        print(\"Generation {:3} :> {} is the most fit with fitness {}\".format(generation,population[0][0],population[0][1]))\n",
    "        break\n",
    "    print(\"Generation {:3} :> {} is the most fit with fitness {}\".format(generation,population[0][0],population[0][1]))\n",
    "    population = list(map(clean_slate,population))\n",
    "\n",
    "    generation +=1"
   ]
  },
  {
   "cell_type": "code",
   "execution_count": null,
   "metadata": {},
   "outputs": [],
   "source": []
  },
  {
   "cell_type": "code",
   "execution_count": null,
   "metadata": {},
   "outputs": [],
   "source": []
  },
  {
   "cell_type": "code",
   "execution_count": null,
   "metadata": {},
   "outputs": [],
   "source": []
  }
 ],
 "metadata": {
  "kernelspec": {
   "display_name": "Python 3",
   "language": "python",
   "name": "python3"
  },
  "language_info": {
   "codemirror_mode": {
    "name": "ipython",
    "version": 3
   },
   "file_extension": ".py",
   "mimetype": "text/x-python",
   "name": "python",
   "nbconvert_exporter": "python",
   "pygments_lexer": "ipython3",
   "version": "3.7.3"
  }
 },
 "nbformat": 4,
 "nbformat_minor": 4
}
