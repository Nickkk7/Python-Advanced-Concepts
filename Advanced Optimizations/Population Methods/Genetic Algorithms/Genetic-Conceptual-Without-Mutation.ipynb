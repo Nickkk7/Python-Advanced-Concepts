{
 "cells": [
  {
   "cell_type": "code",
   "execution_count": 2,
   "metadata": {},
   "outputs": [],
   "source": [
    "genes = \"0123456789ABCDEFGHIJKLMNOPQRSTUVWXYZ \"\n",
    "target = \"PEACE OUT X0X0\"\n",
    "TOTAL_POP = 100"
   ]
  },
  {
   "cell_type": "code",
   "execution_count": 3,
   "metadata": {},
   "outputs": [],
   "source": [
    "import random\n",
    "import numpy as np"
   ]
  },
  {
   "cell_type": "code",
   "execution_count": 6,
   "metadata": {},
   "outputs": [],
   "source": [
    "def chromosome():\n",
    "    global target\n",
    "    return [mutation() for t in range(len(target))]\n",
    "def mutation():\n",
    "    global genes\n",
    "    return random.choice(genes)"
   ]
  },
  {
   "cell_type": "code",
   "execution_count": 11,
   "metadata": {},
   "outputs": [],
   "source": [
    "def fitness(population):\n",
    "    global target\n",
    "    fitness = []\n",
    "    for p in population:\n",
    "        fit = 0\n",
    "        for i in range(len(target)):\n",
    "            if p[i] != target[i]:\n",
    "                fit += 1\n",
    "        fitness.append(fit)\n",
    "    return list(zip(population,fitness))"
   ]
  },
  {
   "cell_type": "code",
   "execution_count": 35,
   "metadata": {},
   "outputs": [],
   "source": [
    "def copyWithReplacement(p1,p2):\n",
    "    child_chromosome = []\n",
    "    for i in range(len(target)):\n",
    "        prob = random.random()\n",
    "        if prob <0.45:\n",
    "            child_chromosome.append(p1[i])\n",
    "        elif prob <0.90:\n",
    "            child_chromosome.append(p2[i])\n",
    "        else:\n",
    "            child_chromosome.append(mutation())\n",
    "    return child_chromosome"
   ]
  },
  {
   "cell_type": "code",
   "execution_count": 44,
   "metadata": {},
   "outputs": [
    {
     "name": "stdout",
     "output_type": "stream",
     "text": [
      "Children :> PBBJISZUTNUYK1 : Error 11 in Generation :  1\n",
      "Children :> PEUNISZUTPW8RP : Error 10 in Generation :  2\n",
      "Children :> PEUNISZUTPW8RP : Error 10 in Generation :  3\n",
      "Children :> SQ6CE C9K 60VP : Error  9 in Generation :  4\n",
      "Children :> PMBYE POTS3JX0 : Error  8 in Generation :  5\n",
      "Children :> PEAOF ZUT LJKC : Error  7 in Generation :  6\n",
      "Children :> PEARD OGTXX0U0 : Error  5 in Generation :  7\n",
      "Children :> PEARD OGTXX0U0 : Error  5 in Generation :  8\n",
      "Children :> PEACE WUT XJE0 : Error  3 in Generation :  9\n",
      "Children :> PEACE OUT XJX0 : Error  1 in Generation : 10\n",
      "Children :> PEACE OUT XJX0 : Error  1 in Generation : 11\n",
      "Children :> PEACE OUT X0X0 : Error  0 in Generation : 12\n"
     ]
    }
   ],
   "source": [
    "population = []\n",
    "for t in range(TOTAL_POP):\n",
    "    individual = chromosome()\n",
    "    population.append(individual)\n",
    "    \n",
    "population = fitness(population)\n",
    "population = sorted(population,key=lambda x:x[1])\n",
    "\n",
    "generation = 1\n",
    "Found = False\n",
    "    \n",
    "while not Found:\n",
    "    print(\"Children :> {} : Error {:2} in Generation : {:2}\".format(\"\".join(population[0][0]),population[0][1],generation))\n",
    "    test = population\n",
    "    if population[0][1] <= 0:\n",
    "        Found = True\n",
    "    ellitism = int(0.1*TOTAL_POP)\n",
    "    new_generation = [population[i][0] for i in range(ellitism)]\n",
    "    offsprings = int((0.9*TOTAL_POP))\n",
    "    for _ in range(offsprings):\n",
    "        p1,p2 = random.randint(0,50),random.randint(0,50)\n",
    "        for i in range(2):\n",
    "            child = copyWithReplacement(population[p1][0],population[p2][0])\n",
    "            new_generation.append(child)\n",
    "    population = new_generation\n",
    "    population = fitness(population)\n",
    "    population = sorted(population,key=lambda x:x[1])\n",
    "    generation +=1"
   ]
  },
  {
   "cell_type": "code",
   "execution_count": null,
   "metadata": {},
   "outputs": [],
   "source": []
  }
 ],
 "metadata": {
  "kernelspec": {
   "display_name": "Python 3",
   "language": "python",
   "name": "python3"
  },
  "language_info": {
   "codemirror_mode": {
    "name": "ipython",
    "version": 3
   },
   "file_extension": ".py",
   "mimetype": "text/x-python",
   "name": "python",
   "nbconvert_exporter": "python",
   "pygments_lexer": "ipython3",
   "version": "3.7.3"
  }
 },
 "nbformat": 4,
 "nbformat_minor": 4
}
