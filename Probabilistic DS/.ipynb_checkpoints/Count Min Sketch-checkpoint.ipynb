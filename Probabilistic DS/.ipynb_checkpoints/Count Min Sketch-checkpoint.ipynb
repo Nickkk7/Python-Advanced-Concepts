{
 "cells": [
  {
   "cell_type": "markdown",
   "metadata": {},
   "source": [
    "## __Count Min Sketch__\n",
    "\n",
    "1. A very very helful data structures family Sketch has this DS Count Min Sketch.\n",
    "2. Count Min Sketch is very useful in the implementation of frequency counting of some event.\n",
    "3. We use r X c matrix to store the hashed count in the matrix in every individual row and when we have to query the frequency of some element we take the min of that element in every row."
   ]
  },
  {
   "cell_type": "code",
   "execution_count": 107,
   "metadata": {},
   "outputs": [],
   "source": [
    "import numpy as np\n",
    "import mmh3\n",
    "import requests\n",
    "from collections import Counter"
   ]
  },
  {
   "cell_type": "code",
   "execution_count": 146,
   "metadata": {},
   "outputs": [],
   "source": [
    "count_sketch = np.zeros((1000000,5),dtype=np.int8)"
   ]
  },
  {
   "cell_type": "code",
   "execution_count": 116,
   "metadata": {},
   "outputs": [],
   "source": [
    "target_url = \"https://www.gutenberg.org/files/2600/2600-0.txt\""
   ]
  },
  {
   "cell_type": "code",
   "execution_count": 117,
   "metadata": {},
   "outputs": [],
   "source": [
    "response = requests.get(target_url)\n",
    "data = response.text"
   ]
  },
  {
   "cell_type": "code",
   "execution_count": 118,
   "metadata": {},
   "outputs": [],
   "source": [
    "data = data[8133:]"
   ]
  },
  {
   "cell_type": "code",
   "execution_count": 119,
   "metadata": {},
   "outputs": [],
   "source": [
    "data = data.replace(\"\\r\",\" \")\n",
    "data = data.replace(\"\\n\", \" \")\n",
    "data = data.replace(\"\\\"\",\"\")\n",
    "data = data.replace(\",\",\"\")\n",
    "data = data.replace(\".\",\"\")"
   ]
  },
  {
   "cell_type": "code",
   "execution_count": 120,
   "metadata": {},
   "outputs": [],
   "source": [
    "data = data.lower()"
   ]
  },
  {
   "cell_type": "code",
   "execution_count": 121,
   "metadata": {},
   "outputs": [],
   "source": [
    "data = data.split(\" \")"
   ]
  },
  {
   "cell_type": "code",
   "execution_count": 131,
   "metadata": {},
   "outputs": [],
   "source": [
    "dataCounter = Counter(data).most_common(5555)"
   ]
  },
  {
   "cell_type": "code",
   "execution_count": 134,
   "metadata": {},
   "outputs": [
    {
     "data": {
      "text/plain": [
       "('', 80026)"
      ]
     },
     "execution_count": 134,
     "metadata": {},
     "output_type": "execute_result"
    }
   ],
   "source": [
    "dataCounter.pop(0)"
   ]
  },
  {
   "cell_type": "code",
   "execution_count": null,
   "metadata": {},
   "outputs": [],
   "source": []
  },
  {
   "cell_type": "code",
   "execution_count": 136,
   "metadata": {},
   "outputs": [],
   "source": [
    "dataPoints = [d[0] for d in dataCounter]"
   ]
  },
  {
   "cell_type": "code",
   "execution_count": 153,
   "metadata": {},
   "outputs": [],
   "source": [
    "def hash_table_creator():\n",
    "    global dataPoints,count_sketch\n",
    "    hash42 = np.array(list(map(lambda x: mmh3.hash(x,42,signed=False),dataPoints)))\n",
    "    hash142 = np.array(list(map(lambda x: mmh3.hash(x,142,signed=False),dataPoints)))\n",
    "    hash1421 = np.array(list(map(lambda x: mmh3.hash(x,1421,signed=False),dataPoints)))\n",
    "    hash14214 = np.array(list(map(lambda x: mmh3.hash(x,14214,signed=False),dataPoints)))\n",
    "    hash142142 = np.array(list(map(lambda x: mmh3.hash(x,142142,signed=False),dataPoints)))\n",
    "    for i in range(len(dataPoints)):\n",
    "        count_sketch[hash42%100333][0] = hash42[i]\n",
    "        count_sketch[hash142%100333][1] = hash142[i]\n",
    "        count_sketch[hash1421%100333][2] = hash1421[i]\n",
    "        count_sketch[hash14214%100333][3] = hash14214[i]\n",
    "        count_sketch[hash142142%100333][4] = hash142142[i]"
   ]
  },
  {
   "cell_type": "code",
   "execution_count": 154,
   "metadata": {},
   "outputs": [],
   "source": [
    "hash_table_creator()"
   ]
  },
  {
   "cell_type": "code",
   "execution_count": 157,
   "metadata": {},
   "outputs": [
    {
     "data": {
      "text/plain": [
       "array([[0, 0, 0, 0, 0],\n",
       "       [0, 0, 0, 0, 0],\n",
       "       [0, 0, 0, 0, 0],\n",
       "       ...,\n",
       "       [0, 0, 0, 0, 0],\n",
       "       [0, 0, 0, 0, 0],\n",
       "       [0, 0, 0, 0, 0]], dtype=int8)"
      ]
     },
     "execution_count": 157,
     "metadata": {},
     "output_type": "execute_result"
    }
   ],
   "source": []
  },
  {
   "cell_type": "code",
   "execution_count": null,
   "metadata": {},
   "outputs": [],
   "source": []
  }
 ],
 "metadata": {
  "kernelspec": {
   "display_name": "Python 3",
   "language": "python",
   "name": "python3"
  },
  "language_info": {
   "codemirror_mode": {
    "name": "ipython",
    "version": 3
   },
   "file_extension": ".py",
   "mimetype": "text/x-python",
   "name": "python",
   "nbconvert_exporter": "python",
   "pygments_lexer": "ipython3",
   "version": "3.7.3"
  }
 },
 "nbformat": 4,
 "nbformat_minor": 4
}
